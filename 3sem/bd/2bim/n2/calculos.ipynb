{
 "cells": [
  {
   "cell_type": "code",
   "execution_count": 1,
   "metadata": {},
   "outputs": [
    {
     "name": "stderr",
     "output_type": "stream",
     "text": [
      "WARNING: Ignoring invalid distribution -heel (c:\\anaconda3\\lib\\site-packages)\n",
      "WARNING: Ignoring invalid distribution -umpy (c:\\anaconda3\\lib\\site-packages)\n",
      "WARNING: Ignoring invalid distribution -heel (c:\\anaconda3\\lib\\site-packages)\n",
      "WARNING: Ignoring invalid distribution -umpy (c:\\anaconda3\\lib\\site-packages)\n"
     ]
    },
    {
     "name": "stdout",
     "output_type": "stream",
     "text": [
      "Requirement already satisfied: chardet in c:\\anaconda3\\lib\\site-packages (4.0.0)\n",
      "{'encoding': 'ISO-8859-1', 'confidence': 0.7299998765700513, 'language': ''}\n"
     ]
    }
   ],
   "source": [
    "# install the chardet library\n",
    "!pip install chardet\n",
    "\n",
    "# import the chardet library\n",
    "import chardet \n",
    "\n",
    "# use the detect method to find the encoding\n",
    "# 'rb' means read in the file as binary\n",
    "with open(r\"C:\\Users\\brrochana1\\Repositories\\fesa\\3sem\\bd\\2bim\\n2\\other\\202304_RecebimentosRecursosPorFavorecido.csv\", 'rb') as file:\n",
    "    print(chardet.detect(file.read()))"
   ]
  },
  {
   "cell_type": "code",
   "execution_count": 6,
   "metadata": {},
   "outputs": [
    {
     "name": "stdout",
     "output_type": "stream",
     "text": [
      "Código Favorecido: NVARCHAR(14)\n",
      "Nome Favorecido: NVARCHAR(100)\n",
      "Sigla UF: NVARCHAR(2)\n",
      "Nome Município: NVARCHAR(32)\n",
      "Código Órgão Superior: NVARCHAR(5)\n",
      "Nome Órgão Superior: NVARCHAR(45)\n",
      "Código Órgão: NVARCHAR(5)\n",
      "Nome Órgão: NVARCHAR(92)\n",
      "Código Unidade Gestora: NVARCHAR(6)\n",
      "Nome Unidade Gestora: NVARCHAR(45)\n",
      "Ano e mês do lançamento: NVARCHAR(7)\n",
      "Valor Recebido: NVARCHAR(16)\n"
     ]
    }
   ],
   "source": [
    "import csv\n",
    "\n",
    "def get_max_column_lengths(csv_file):\n",
    "    max_lengths = []\n",
    "\n",
    "    with open(csv_file, newline='', encoding='ISO-8859-1') as file:\n",
    "        reader = csv.reader(file, delimiter=';', quotechar='\"', escapechar='\\\\')\n",
    "\n",
    "        # Inicializa a lista de comprimentos máximos com zeros\n",
    "        global header\n",
    "        header = next(reader)\n",
    "        max_lengths = [0] * len(header)\n",
    "\n",
    "        # Itera pelas linhas do arquivo CSV\n",
    "        for row in reader:\n",
    "            # Atualiza os comprimentos máximos de cada coluna\n",
    "            max_lengths = [max(max_lengths[i], len(cell)) for i, cell in enumerate(row)]\n",
    "\n",
    "    return max_lengths\n",
    "\n",
    "def generate_sql_field_declarations(csv_file):\n",
    "    max_lengths = get_max_column_lengths(csv_file)\n",
    "\n",
    "    return [f'NVARCHAR({length})' for length in max_lengths]\n",
    "\n",
    "# Exemplo de uso\n",
    "csv_file_path = r'C:\\Users\\brrochana1\\Repositories\\fesa\\3sem\\bd\\2bim\\n2\\other\\202304_RecebimentosRecursosPorFavorecido.csv'\n",
    "field_declarations = generate_sql_field_declarations(csv_file_path)\n",
    "\n",
    "# Imprime as declarações dos campos\n",
    "for field, declaration in zip(header, field_declarations):\n",
    "    print(f'{field}: {declaration}')\n"
   ]
  },
  {
   "cell_type": "code",
   "execution_count": 3,
   "metadata": {},
   "outputs": [
    {
     "name": "stdout",
     "output_type": "stream",
     "text": [
      "A anotação necessária no SQL é: DECIMAL(15, 2)\n"
     ]
    }
   ],
   "source": [
    "import decimal\n",
    "import csv\n",
    "\n",
    "def encontrar_precisao(valores):\n",
    "    max_digitos_antes = 0\n",
    "    max_digitos_depois = 0\n",
    "\n",
    "    for valor in valores:\n",
    "        # Converte o valor para Decimal para análise\n",
    "        decimal_valor = str(decimal.Decimal(valor.replace(\",\", \".\"))).split('.')\n",
    "        \n",
    "        # Verifica o número de dígitos antes e depois do ponto decimal\n",
    "        digitos_antes = len(decimal_valor[0])\n",
    "        digitos_depois = len(decimal_valor[1])\n",
    "\n",
    "        if digitos_antes > max_digitos_antes:\n",
    "            max_digitos_antes = digitos_antes\n",
    "\n",
    "        if digitos_depois > max_digitos_depois:\n",
    "            max_digitos_depois = digitos_depois\n",
    "\n",
    "    # Retorna a precisão encontrada\n",
    "    return max_digitos_antes, max_digitos_depois\n",
    "\n",
    "def valores(csv_file):\n",
    "    with open(csv_file, newline='', encoding='ISO-8859-1') as file:\n",
    "        reader = csv.reader(file, delimiter=';', quotechar='\"', escapechar='\\\\')\n",
    "\n",
    "        next(reader)\n",
    "\n",
    "        # Itera pelas linhas do arquivo CSV\n",
    "        for row in reader:\n",
    "            yield row[-1]\n",
    "\n",
    "\n",
    "csv_file_path = r'C:\\Users\\brrochana1\\Repositories\\fesa\\3sem\\bd\\2bim\\n2\\other\\202304_RecebimentosRecursosPorFavorecido.csv'\n",
    "\n",
    "# Encontra a precisão necessária\n",
    "precisao_antes, precisao_depois = encontrar_precisao(valores(csv_file_path))\n",
    "\n",
    "# Cria a anotação para o SQL\n",
    "anotacao_sql = (\n",
    "    f\"DECIMAL({precisao_antes + precisao_depois}, {precisao_depois})\"\n",
    ")\n",
    "\n",
    "print(\"A anotação necessária no SQL é:\", anotacao_sql)\n"
   ]
  },
  {
   "cell_type": "code",
   "execution_count": null,
   "metadata": {},
   "outputs": [],
   "source": [
    "import requests\n",
    "\n",
    "response = requests.get('http://api.ipify.org')\n",
    "ip_address = response.text\n",
    "\n",
    "print(f'Meu endereço IP público é: {ip_address}')"
   ]
  }
 ],
 "metadata": {
  "kernelspec": {
   "display_name": "base",
   "language": "python",
   "name": "python3"
  },
  "language_info": {
   "codemirror_mode": {
    "name": "ipython",
    "version": 3
   },
   "file_extension": ".py",
   "mimetype": "text/x-python",
   "name": "python",
   "nbconvert_exporter": "python",
   "pygments_lexer": "ipython3",
   "version": "3.9.12"
  },
  "orig_nbformat": 4
 },
 "nbformat": 4,
 "nbformat_minor": 2
}
